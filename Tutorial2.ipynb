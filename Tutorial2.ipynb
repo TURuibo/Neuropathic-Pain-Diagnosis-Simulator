{
 "cells": [
  {
   "cell_type": "markdown",
   "metadata": {},
   "source": [
    "# Compute the causal accuracy \n",
    "Causal accuracy is introduced as an evaluation metrics in [this paper](https://arxiv.org/abs/1210.4866#targetText=We%20target%20the%20problem%20of,inference%20from%20finite%20data%20sets.&targetText=We%20use%20a%20Bayesian%20score,in%20a%20constraint%2Dbased%20procedure.), we show a demo which uses the causal accuracy to evaluate PC and FCI in Tetrad. \n",
    "\n",
    "1. Load the ground-truth causal graph (DAG)\n",
    "2. Convert ground-truth DAG to Complete Partially Directed Acyclic Graph (CPDAG) and Partial Ancestral Graph(PAG) with R package pcalg [3].\n",
    "3. Load the Tetrad output text files of PC and FCI.\n",
    "4. Compute the causal accuracy of PC and FCI results."
   ]
  },
  {
   "cell_type": "code",
   "execution_count": 1,
   "metadata": {
    "scrolled": true
   },
   "outputs": [],
   "source": [
    "import source.CauAcc as acc"
   ]
  },
  {
   "cell_type": "markdown",
   "metadata": {},
   "source": [
    "## Load the ground-true causal graph"
   ]
  },
  {
   "cell_type": "code",
   "execution_count": 3,
   "metadata": {},
   "outputs": [],
   "source": [
    "dag_GT = acc.load_graph_true_graph()"
   ]
  },
  {
   "cell_type": "markdown",
   "metadata": {},
   "source": [
    "## Convert the ground-true causal graph to CPDAG and PAG\n",
    "- the outputs of PC and FCI are CPDAG and PAG respectively"
   ]
  },
  {
   "cell_type": "code",
   "execution_count": 4,
   "metadata": {},
   "outputs": [],
   "source": [
    "cpdag_GT = acc.dag2cpdag()\n",
    "pag_GT = acc.dag2pag()"
   ]
  },
  {
   "cell_type": "markdown",
   "metadata": {},
   "source": [
    "## Load the results of PC and FCI"
   ]
  },
  {
   "cell_type": "code",
   "execution_count": 5,
   "metadata": {},
   "outputs": [],
   "source": [
    "cpdag_pc = acc.txt2edge('example/pc_result_tetrad.txt')\n",
    "pag_fci = acc.txt2pag('example/fci_result_tetrad.txt')"
   ]
  },
  {
   "cell_type": "markdown",
   "metadata": {},
   "source": [
    "## Compute the causal accuracy"
   ]
  },
  {
   "cell_type": "code",
   "execution_count": 7,
   "metadata": {},
   "outputs": [
    {
     "name": "stdout",
     "output_type": "stream",
     "text": [
      "Compared with the ground-truth CPDAG, the causal accuracy of PC is  0.06004901960784314\n",
      "Compared with the ground-truth PAG, the causal accuracy of FCI is  0.03896103896103896\n"
     ]
    }
   ],
   "source": [
    "print('Compared with the ground-truth CPDAG, the causal accuracy of PC is ', \n",
    "      acc.causal_acc(cpdag_GT, cpdag_pc))\n",
    "print('Compared with the ground-truth PAG, the causal accuracy of FCI is ', \n",
    "      acc.causal_acc(pag_GT, pag_fci))"
   ]
  }
 ],
 "metadata": {
  "kernelspec": {
   "display_name": "Python 3",
   "language": "python",
   "name": "python3"
  },
  "language_info": {
   "codemirror_mode": {
    "name": "ipython",
    "version": 3
   },
   "file_extension": ".py",
   "mimetype": "text/x-python",
   "name": "python",
   "nbconvert_exporter": "python",
   "pygments_lexer": "ipython3",
   "version": "3.7.3"
  }
 },
 "nbformat": 4,
 "nbformat_minor": 2
}
