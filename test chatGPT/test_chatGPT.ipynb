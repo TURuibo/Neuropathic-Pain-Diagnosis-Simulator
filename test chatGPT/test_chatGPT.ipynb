{
 "cells": [
  {
   "cell_type": "code",
   "execution_count": 14,
   "metadata": {},
   "outputs": [],
   "source": [
    "from source.sampling import get_var_nms,get_nam_dic\n",
    "import source.CauAcc as acc\n",
    "dag_GT = acc.load_graph_true_graph()"
   ]
  },
  {
   "cell_type": "code",
   "execution_count": 15,
   "metadata": {},
   "outputs": [],
   "source": [
    "nms = get_var_nms()\n",
    "nm_dict = get_nam_dic()"
   ]
  },
  {
   "cell_type": "code",
   "execution_count": 16,
   "metadata": {},
   "outputs": [],
   "source": [
    "import pandas as pd\n",
    " # initialize list of lists \n",
    "# Create the pandas DataFrame\n",
    "df = pd.DataFrame(nms, columns=['names'])\n",
    "pd.set_option('display.max_rows', 222)\n"
   ]
  },
  {
   "attachments": {},
   "cell_type": "markdown",
   "metadata": {},
   "source": [
    "The first non-discoligment injury one"
   ]
  },
  {
   "cell_type": "code",
   "execution_count": 17,
   "metadata": {},
   "outputs": [
    {
     "data": {
      "text/plain": [
       "'Kraniocervikal ledskada'"
      ]
     },
     "execution_count": 17,
     "metadata": {},
     "output_type": "execute_result"
    }
   ],
   "source": [
    "nms[26]"
   ]
  },
  {
   "cell_type": "code",
   "execution_count": 18,
   "metadata": {},
   "outputs": [
    {
     "data": {
      "text/html": [
       "<div>\n",
       "<style scoped>\n",
       "    .dataframe tbody tr th:only-of-type {\n",
       "        vertical-align: middle;\n",
       "    }\n",
       "\n",
       "    .dataframe tbody tr th {\n",
       "        vertical-align: top;\n",
       "    }\n",
       "\n",
       "    .dataframe thead th {\n",
       "        text-align: right;\n",
       "    }\n",
       "</style>\n",
       "<table border=\"1\" class=\"dataframe\">\n",
       "  <thead>\n",
       "    <tr style=\"text-align: right;\">\n",
       "      <th></th>\n",
       "      <th>Query</th>\n",
       "      <th>Answer</th>\n",
       "    </tr>\n",
       "  </thead>\n",
       "  <tbody>\n",
       "    <tr>\n",
       "      <th>0</th>\n",
       "      <td>Discoligment injury</td>\n",
       "      <td>True</td>\n",
       "    </tr>\n",
       "  </tbody>\n",
       "</table>\n",
       "</div>"
      ],
      "text/plain": [
       "                 Query  Answer\n",
       "0  Discoligment injury    True"
      ]
     },
     "execution_count": 18,
     "metadata": {},
     "output_type": "execute_result"
    }
   ],
   "source": [
    "import pandas as pd\n",
    " \n",
    "# initialize list of lists\n",
    "data = [['Discoligment injury', True]]\n",
    " \n",
    "# Create the pandas DataFrame\n",
    "df = pd.DataFrame(data, columns=['Query', 'Answer'])\n",
    " \n",
    "# print dataframe.\n",
    "df\n"
   ]
  },
  {
   "cell_type": "code",
   "execution_count": 19,
   "metadata": {},
   "outputs": [],
   "source": [
    "for A in nms[30:]:\n",
    "    for B in nms[30:]:\n",
    "        if 'DLS' in A:\n",
    "            A = 'discoligamentous injury' + A[3:]\n",
    "        if 'DLS' in B:\n",
    "            B = 'discoligamentous injury' + B[3:]\n",
    "        Qurey = A + ' causes ' + B +'.'\n",
    "        if A[:2] == 'L ' or A[:2] == 'R ' or B[:2] == 'L ' or B[:2] == 'R ':\n",
    "            Qurey += '\\\"R\\\" and \\\"L\\\" refer to the right and left sides of the body, respectively).'\n",
    "        Qurey += 'Answer with true or false.'\n",
    "\n",
    "        if dag_GT[nm_dict[A]][nm_dict[B]] == 0:\n",
    "            Answer = False\n",
    "        else:\n",
    "            Answer = True\n",
    "        new_row = {'Query':Qurey, 'Answer':Answer}\n",
    "        df = df.append(new_row, ignore_index=True)\n"
   ]
  },
  {
   "cell_type": "code",
   "execution_count": 20,
   "metadata": {},
   "outputs": [
    {
     "name": "stdout",
     "output_type": "stream",
     "text": [
      "(663, 2)\n",
      "(36202, 2)\n"
     ]
    }
   ],
   "source": [
    "# the causal queries \n",
    "df_causal = df.loc[df['Answer'] == True]\n",
    "print(df_causal.shape)\n",
    "# the non-causal relationships \n",
    "df_non_causal = df.loc[df['Answer'] == False]\n",
    "print(df_non_causal.shape)"
   ]
  },
  {
   "cell_type": "code",
   "execution_count": 21,
   "metadata": {},
   "outputs": [],
   "source": [
    "import numpy as np\n",
    "np.random.seed(7)\n",
    "rand_index_non_causal = np.random.randint(0,36202,50)\n",
    "df_non_causal_rand = df_non_causal.iloc[rand_index_non_causal]\n",
    "df_non_causal_rand.to_csv('result/chatGPT_testfile_false.csv', index=True, header=True)"
   ]
  },
  {
   "cell_type": "code",
   "execution_count": 22,
   "metadata": {},
   "outputs": [],
   "source": [
    "np.random.seed(8)\n",
    "rand_index_causal = np.random.randint(0,663,50)\n",
    "df_causal_rand = df_causal.iloc[rand_index_causal]\n",
    "df_causal_rand.to_csv('result/chatGPT_testfile_true.csv', index=True, header=True)"
   ]
  },
  {
   "cell_type": "code",
   "execution_count": 32,
   "metadata": {},
   "outputs": [],
   "source": [
    "import numpy as np\n",
    "np.sum(df['Answer'])\n",
    "df.to_csv('result/chatGPT_testfile.csv', index=True, header=True)"
   ]
  }
 ],
 "metadata": {
  "kernelspec": {
   "display_name": "Python 3",
   "language": "python",
   "name": "python3"
  },
  "language_info": {
   "codemirror_mode": {
    "name": "ipython",
    "version": 3
   },
   "file_extension": ".py",
   "mimetype": "text/x-python",
   "name": "python",
   "nbconvert_exporter": "python",
   "pygments_lexer": "ipython3",
   "version": "3.7.3 (v3.7.3:ef4ec6ed12, Mar 25 2019, 16:52:21) \n[Clang 6.0 (clang-600.0.57)]"
  },
  "orig_nbformat": 4,
  "vscode": {
   "interpreter": {
    "hash": "aee8b7b246df8f9039afb4144a1f6fd8d2ca17a180786b69acc140d282b71a49"
   }
  }
 },
 "nbformat": 4,
 "nbformat_minor": 2
}
